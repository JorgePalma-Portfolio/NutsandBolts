{
 "cells": [
  {
   "cell_type": "code",
   "execution_count": 2,
   "metadata": {},
   "outputs": [
    {
     "name": "stdout",
     "output_type": "stream",
     "text": [
      "The autoreload extension is already loaded. To reload it, use:\n",
      "  %reload_ext autoreload\n"
     ]
    },
    {
     "data": {
      "text/html": [
       "<style>.container { width:90% !important; }</style>"
      ],
      "text/plain": [
       "<IPython.core.display.HTML object>"
      ]
     },
     "metadata": {},
     "output_type": "display_data"
    },
    {
     "data": {
      "text/html": [
       "<style>div.output_area{max-height:10000px;overflow:scroll;}</style>"
      ],
      "text/plain": [
       "<IPython.core.display.HTML object>"
      ]
     },
     "metadata": {},
     "output_type": "display_data"
    },
    {
     "name": "stdout",
     "output_type": "stream",
     "text": [
      "Python: 3.9.18 (main, Sep 11 2023, 13:41:44) \n",
      "[GCC 11.2.0]\n",
      "Notebook Last Run Initiated: 2024-04-06 16:53:35.328434\n"
     ]
    }
   ],
   "source": [
    "%load_ext autoreload\n",
    "%autoreload\n",
    "\n",
    "## This expands a notebook to full width\n",
    "from IPython.display import display, HTML\n",
    "\n",
    "display(HTML(\"<style>.container { width:90% !important; }</style>\"))\n",
    "display(HTML(\"\"\"<style>div.output_area{max-height:10000px;overflow:scroll;}</style>\"\"\"))\n",
    "\n",
    "## Show Python Version\n",
    "import sys\n",
    "print(\"Python: {0}\".format(sys.version))\n",
    "\n",
    "## Show Current Time\n",
    "import datetime as dt\n",
    "start = dt.datetime.now()\n",
    "print(\"Notebook Last Run Initiated: \"+str(start))"
   ]
  },
  {
   "cell_type": "markdown",
   "metadata": {
    "id": "HoEiQ-aBnQLt"
   },
   "source": [
    "## Setup"
   ]
  },
  {
   "cell_type": "code",
   "execution_count": 3,
   "metadata": {
    "id": "PZ3hSrj4nQLu"
   },
   "outputs": [
    {
     "name": "stderr",
     "output_type": "stream",
     "text": [
      "2024-04-06 16:53:45.784485: I tensorflow/core/platform/cpu_feature_guard.cc:193] This TensorFlow binary is optimized with oneAPI Deep Neural Network Library (oneDNN) to use the following CPU instructions in performance-critical operations:  AVX2 FMA\n",
      "To enable them in other operations, rebuild TensorFlow with the appropriate compiler flags.\n",
      "2024-04-06 16:53:45.885680: W tensorflow/compiler/xla/stream_executor/platform/default/dso_loader.cc:64] Could not load dynamic library 'libcudart.so.11.0'; dlerror: libcudart.so.11.0: cannot open shared object file: No such file or directory\n",
      "2024-04-06 16:53:45.885695: I tensorflow/compiler/xla/stream_executor/cuda/cudart_stub.cc:29] Ignore above cudart dlerror if you do not have a GPU set up on your machine.\n",
      "2024-04-06 16:53:46.393260: W tensorflow/compiler/xla/stream_executor/platform/default/dso_loader.cc:64] Could not load dynamic library 'libnvinfer.so.7'; dlerror: libnvinfer.so.7: cannot open shared object file: No such file or directory\n",
      "2024-04-06 16:53:46.393373: W tensorflow/compiler/xla/stream_executor/platform/default/dso_loader.cc:64] Could not load dynamic library 'libnvinfer_plugin.so.7'; dlerror: libnvinfer_plugin.so.7: cannot open shared object file: No such file or directory\n",
      "2024-04-06 16:53:46.393382: W tensorflow/compiler/tf2tensorrt/utils/py_utils.cc:38] TF-TRT Warning: Cannot dlopen some TensorRT libraries. If you would like to use Nvidia GPU with TensorRT, please make sure the missing libraries mentioned above are installed properly.\n",
      "/home/jpalma/miniconda3/envs/tf/lib/python3.9/site-packages/tensorflow_addons/utils/tfa_eol_msg.py:23: UserWarning: \n",
      "\n",
      "TensorFlow Addons (TFA) has ended development and introduction of new features.\n",
      "TFA has entered a minimal maintenance and release mode until a planned end of life in May 2024.\n",
      "Please modify downstream libraries to take dependencies from other repositories in our TensorFlow community (e.g. Keras, Keras-CV, and Keras-NLP). \n",
      "\n",
      "For more information see: https://github.com/tensorflow/addons/issues/2807 \n",
      "\n",
      "  warnings.warn(\n",
      "/home/jpalma/miniconda3/envs/tf/lib/python3.9/site-packages/tensorflow_addons/utils/ensure_tf_install.py:53: UserWarning: Tensorflow Addons supports using Python ops for all Tensorflow versions above or equal to 2.13.0 and strictly below 2.16.0 (nightly versions are not supported). \n",
      " The versions of TensorFlow you are currently using is 2.11.0 and is not supported. \n",
      "Some things might work, some things might not.\n",
      "If you were to encounter a bug, do not file an issue.\n",
      "If you want to make sure you're using a tested and supported configuration, either change the TensorFlow version or the TensorFlow Addons's version. \n",
      "You can find the compatibility matrix in TensorFlow Addon's readme:\n",
      "https://github.com/tensorflow/addons\n",
      "  warnings.warn(\n"
     ]
    }
   ],
   "source": [
    "import numpy as np\n",
    "import tensorflow as tf\n",
    "from tensorflow import keras\n",
    "from tensorflow.keras import layers\n",
    "from tensorflow.keras.preprocessing.image import ImageDataGenerator,load_img, img_to_array\n",
    "import tensorflow_addons as tfa\n",
    "import pandas as pd\n",
    "import os\n",
    "from sklearn.model_selection import train_test_split\n",
    "\n",
    "from PIL import Image\n",
    "from PIL import ImageEnhance\n",
    "\n",
    "from random import randrange"
   ]
  },
  {
   "cell_type": "code",
   "execution_count": 4,
   "metadata": {},
   "outputs": [],
   "source": [
    "import warnings\n",
    "warnings.filterwarnings('ignore')"
   ]
  },
  {
   "cell_type": "code",
   "execution_count": 5,
   "metadata": {},
   "outputs": [
    {
     "name": "stdout",
     "output_type": "stream",
     "text": [
      "Num GPUs Available:  0\n",
      "2.11.0\n"
     ]
    },
    {
     "name": "stderr",
     "output_type": "stream",
     "text": [
      "2024-04-06 16:55:03.031705: I tensorflow/compiler/xla/stream_executor/cuda/cuda_gpu_executor.cc:967] could not open file to read NUMA node: /sys/bus/pci/devices/0000:01:00.0/numa_node\n",
      "Your kernel may have been built without NUMA support.\n",
      "2024-04-06 16:55:03.031832: W tensorflow/compiler/xla/stream_executor/platform/default/dso_loader.cc:64] Could not load dynamic library 'libcudart.so.11.0'; dlerror: libcudart.so.11.0: cannot open shared object file: No such file or directory\n",
      "2024-04-06 16:55:03.031897: W tensorflow/compiler/xla/stream_executor/platform/default/dso_loader.cc:64] Could not load dynamic library 'libcublas.so.11'; dlerror: libcublas.so.11: cannot open shared object file: No such file or directory\n",
      "2024-04-06 16:55:03.031950: W tensorflow/compiler/xla/stream_executor/platform/default/dso_loader.cc:64] Could not load dynamic library 'libcublasLt.so.11'; dlerror: libcublasLt.so.11: cannot open shared object file: No such file or directory\n",
      "2024-04-06 16:55:03.032002: W tensorflow/compiler/xla/stream_executor/platform/default/dso_loader.cc:64] Could not load dynamic library 'libcufft.so.10'; dlerror: libcufft.so.10: cannot open shared object file: No such file or directory\n",
      "2024-04-06 16:55:03.275639: W tensorflow/compiler/xla/stream_executor/platform/default/dso_loader.cc:64] Could not load dynamic library 'libcusparse.so.11'; dlerror: libcusparse.so.11: cannot open shared object file: No such file or directory\n",
      "2024-04-06 16:55:03.275724: W tensorflow/compiler/xla/stream_executor/platform/default/dso_loader.cc:64] Could not load dynamic library 'libcudnn.so.8'; dlerror: libcudnn.so.8: cannot open shared object file: No such file or directory\n",
      "2024-04-06 16:55:03.275739: W tensorflow/core/common_runtime/gpu/gpu_device.cc:1934] Cannot dlopen some GPU libraries. Please make sure the missing libraries mentioned above are installed properly if you would like to use GPU. Follow the guide at https://www.tensorflow.org/install/gpu for how to download and setup the required libraries for your platform.\n",
      "Skipping registering GPU devices...\n"
     ]
    }
   ],
   "source": [
    "print(\"Num GPUs Available: \", len(tf.config.experimental.list_physical_devices('GPU')))\n",
    "print(tf.__version__)"
   ]
  },
  {
   "cell_type": "code",
   "execution_count": 6,
   "metadata": {},
   "outputs": [],
   "source": [
    "def get_filepaths(directory):\n",
    "    \n",
    "    file_paths = []  # List which will store all of the full filepaths.\n",
    "    file_image = []  # Image filename\n",
    "   \n",
    "    # Walk the tree.\n",
    "    for root, directories, files in os.walk(directory):\n",
    "        for filename in files:\n",
    "            # Join the two strings in order to form the full filepath.\n",
    "                       \n",
    "            filepath = os.path.join(root, filename)\n",
    "            file_paths.append(filepath)  # Add it to the list.       \n",
    "            file_image.append(filename.split('.')[0])\n",
    "\n",
    "    return file_paths, file_image "
   ]
  },
  {
   "cell_type": "code",
   "execution_count": 7,
   "metadata": {},
   "outputs": [],
   "source": [
    "class DataGenerator(tf.keras.utils.Sequence):\n",
    "        \n",
    "    def __init__(self, df_X, arr_Y, batch_size=32,shuffle=False,image_size=128,mode='train'):\n",
    "        self.batch_size = batch_size\n",
    "        self.df_X = df_X\n",
    "        self.arr_Y = arr_Y\n",
    "        self.indices = self.df_X.index.tolist()\n",
    "        self.shuffle = shuffle\n",
    "        self.image_size = image_size\n",
    "        self.mode = mode\n",
    "        self.on_epoch_end()\n",
    "        \n",
    "    def __len__(self):\n",
    "        return int(np.floor(len(self.indices) / self.batch_size))\n",
    "\n",
    "    def __getitem__(self, index):\n",
    "        index = self.index[index * self.batch_size:(index + 1) * self.batch_size]\n",
    "        batch = [self.indices[k] for k in index]\n",
    "        \n",
    "        X, y = self.__get_data(batch)\n",
    "        return X, y\n",
    "    \n",
    "    def n(self):\n",
    "        return len(self.indices)\n",
    "    \n",
    "    def on_epoch_end(self):\n",
    "        self.index = np.arange(len(self.indices))\n",
    "        if self.shuffle == True:\n",
    "            np.random.shuffle(self.index)\n",
    "\n",
    "    def __get_data(self, batch):\n",
    "        X = []\n",
    "        y = []\n",
    "               \n",
    "        for i, id in enumerate(batch):\n",
    "                       \n",
    "            # Data\n",
    "            file = self.df_X.iloc[self.indices[id],0]\n",
    "            img = load_img(file,color_mode='rgb', target_size=(self.image_size,self.image_size),interpolation='nearest')\n",
    "            img = img_to_array(img).astype(np.float32)\n",
    "\n",
    "            if self.mode == 'train':\n",
    "                img = tf.image.random_flip_left_right(img)\n",
    "                img = tf.image.random_flip_up_down(img)\n",
    "                #img = tf.keras.layers.RandomRotation(factor=(-0.2, 0.2))(img)\n",
    "            \n",
    "            X.append(img)\n",
    "            y.append(self.arr_Y[self.indices[id]])\n",
    "            \n",
    "        return np.array(X), np.array(y).reshape(self.batch_size,1)"
   ]
  },
  {
   "cell_type": "markdown",
   "metadata": {
    "id": "Rk_OOT73nQLv"
   },
   "source": [
    "## Prepare the data"
   ]
  },
  {
   "cell_type": "code",
   "execution_count": 21,
   "metadata": {},
   "outputs": [],
   "source": [
    "data = pd.read_csv('train.csv')"
   ]
  },
  {
   "cell_type": "code",
   "execution_count": 22,
   "metadata": {},
   "outputs": [],
   "source": [
    "#data = data.loc[data.group != 'images03']"
   ]
  },
  {
   "cell_type": "code",
   "execution_count": 23,
   "metadata": {},
   "outputs": [],
   "source": [
    "#data = data.loc[data.bolts <= 15]\n",
    "#data = data.loc[data.bolts > 0]"
   ]
  },
  {
   "cell_type": "code",
   "execution_count": 24,
   "metadata": {},
   "outputs": [
    {
     "data": {
      "text/plain": [
       "189"
      ]
     },
     "execution_count": 24,
     "metadata": {},
     "output_type": "execute_result"
    }
   ],
   "source": [
    "data.target.sum()"
   ]
  },
  {
   "cell_type": "code",
   "execution_count": 25,
   "metadata": {},
   "outputs": [
    {
     "data": {
      "text/plain": [
       "(702, 4)"
      ]
     },
     "execution_count": 25,
     "metadata": {},
     "output_type": "execute_result"
    }
   ],
   "source": [
    "data.shape"
   ]
  },
  {
   "cell_type": "code",
   "execution_count": 26,
   "metadata": {
    "colab": {
     "base_uri": "https://localhost:8080/"
    },
    "id": "eEw85rnrnQLv",
    "outputId": "7f17ce76-b1be-4acc-a0c1-a377031e333e"
   },
   "outputs": [],
   "source": [
    "input_shape = (128, 128, 3)"
   ]
  },
  {
   "cell_type": "code",
   "execution_count": 27,
   "metadata": {},
   "outputs": [],
   "source": [
    "X_train, X_test, y_train, y_test = train_test_split(data, data.target.values, test_size=0.20, random_state=1)"
   ]
  },
  {
   "cell_type": "code",
   "execution_count": 28,
   "metadata": {},
   "outputs": [],
   "source": [
    "X_train.reset_index(inplace=True,drop=True)\n",
    "X_test.reset_index(inplace=True,drop=True)"
   ]
  },
  {
   "cell_type": "markdown",
   "metadata": {
    "id": "w1EBdEeEnQLv"
   },
   "source": [
    "## Configure the hyperparameters"
   ]
  },
  {
   "cell_type": "code",
   "execution_count": 29,
   "metadata": {
    "id": "Ttm-h1-pnQLw"
   },
   "outputs": [],
   "source": [
    "learning_rate = 0.001\n",
    "weight_decay = 0.0001\n",
    "batch_size = 32\n",
    "num_epochs = 500\n",
    "image_size = 128  # We'll resize input images to this size\n",
    "patch_size = 32  # Size of the patches to be extract from the input images\n",
    "num_patches = (image_size // patch_size) ** 2\n",
    "projection_dim = 256\n",
    "num_heads = 20# 16\n",
    "transformer_units = [\n",
    "    projection_dim * 2,\n",
    "    projection_dim,\n",
    "]  # Size of the transformer layers\n",
    "transformer_layers = 24\n",
    "mlp_head_units = [2048, 1024, 512]  # Size of the dense layers of the final classifier\n"
   ]
  },
  {
   "cell_type": "markdown",
   "metadata": {
    "id": "XXUH617mnQLx"
   },
   "source": [
    "## Implement multilayer perceptron (MLP)"
   ]
  },
  {
   "cell_type": "code",
   "execution_count": 30,
   "metadata": {
    "id": "4WgVOvuGnQLx"
   },
   "outputs": [],
   "source": [
    "def mlp(x, hidden_units, dropout_rate):\n",
    "    for units in hidden_units:\n",
    "        x = layers.Dense(units, activation=tf.nn.gelu)(x)\n",
    "        x = layers.Dropout(dropout_rate)(x)\n",
    "    return x"
   ]
  },
  {
   "cell_type": "markdown",
   "metadata": {
    "id": "Ii-KgS1ZnQLy"
   },
   "source": [
    "## Implement patch creation as a layer"
   ]
  },
  {
   "cell_type": "code",
   "execution_count": 31,
   "metadata": {
    "id": "eFUMNATznQLy"
   },
   "outputs": [],
   "source": [
    "class Patches(layers.Layer):\n",
    "    def __init__(self, patch_size):\n",
    "        super(Patches, self).__init__()\n",
    "        self.patch_size = patch_size\n",
    "\n",
    "    def call(self, images):\n",
    "        batch_size = tf.shape(images)[0]\n",
    "        patches = tf.image.extract_patches(\n",
    "            images=images,\n",
    "            sizes=[1, self.patch_size, self.patch_size, 1],\n",
    "            strides=[1, self.patch_size, self.patch_size, 1],\n",
    "            rates=[1, 1, 1, 1],\n",
    "            padding=\"VALID\",\n",
    "        )\n",
    "        patch_dims = patches.shape[-1]\n",
    "        patches = tf.reshape(patches, [batch_size, -1, patch_dims])\n",
    "        return patches"
   ]
  },
  {
   "cell_type": "code",
   "execution_count": 32,
   "metadata": {},
   "outputs": [
    {
     "data": {
      "text/html": [
       "<div>\n",
       "<style scoped>\n",
       "    .dataframe tbody tr th:only-of-type {\n",
       "        vertical-align: middle;\n",
       "    }\n",
       "\n",
       "    .dataframe tbody tr th {\n",
       "        vertical-align: top;\n",
       "    }\n",
       "\n",
       "    .dataframe thead th {\n",
       "        text-align: right;\n",
       "    }\n",
       "</style>\n",
       "<table border=\"1\" class=\"dataframe\">\n",
       "  <thead>\n",
       "    <tr style=\"text-align: right;\">\n",
       "      <th></th>\n",
       "      <th>file_path</th>\n",
       "      <th>bolts</th>\n",
       "      <th>target</th>\n",
       "      <th>group</th>\n",
       "    </tr>\n",
       "  </thead>\n",
       "  <tbody>\n",
       "    <tr>\n",
       "      <th>0</th>\n",
       "      <td>images02/s-l400.jpg</td>\n",
       "      <td>7</td>\n",
       "      <td>1</td>\n",
       "      <td>images02</td>\n",
       "    </tr>\n",
       "    <tr>\n",
       "      <th>1</th>\n",
       "      <td>images00/istockphoto-1379311021-612x612.jpg</td>\n",
       "      <td>1</td>\n",
       "      <td>0</td>\n",
       "      <td>images00</td>\n",
       "    </tr>\n",
       "    <tr>\n",
       "      <th>2</th>\n",
       "      <td>images00/8167ioghFqL._SY355_.jpg</td>\n",
       "      <td>3</td>\n",
       "      <td>0</td>\n",
       "      <td>images00</td>\n",
       "    </tr>\n",
       "    <tr>\n",
       "      <th>3</th>\n",
       "      <td>images03/bolts243.png</td>\n",
       "      <td>1</td>\n",
       "      <td>0</td>\n",
       "      <td>images03</td>\n",
       "    </tr>\n",
       "    <tr>\n",
       "      <th>4</th>\n",
       "      <td>images02/GoldTiBoltStanding_large.webp</td>\n",
       "      <td>4</td>\n",
       "      <td>0</td>\n",
       "      <td>images02</td>\n",
       "    </tr>\n",
       "    <tr>\n",
       "      <th>...</th>\n",
       "      <td>...</td>\n",
       "      <td>...</td>\n",
       "      <td>...</td>\n",
       "      <td>...</td>\n",
       "    </tr>\n",
       "    <tr>\n",
       "      <th>556</th>\n",
       "      <td>images00/istockphoto-1455150816-612x612.jpg</td>\n",
       "      <td>3</td>\n",
       "      <td>0</td>\n",
       "      <td>images00</td>\n",
       "    </tr>\n",
       "    <tr>\n",
       "      <th>557</th>\n",
       "      <td>images04/612yDZb-cyL._AC_SL1000_.jpg</td>\n",
       "      <td>10</td>\n",
       "      <td>1</td>\n",
       "      <td>images04</td>\n",
       "    </tr>\n",
       "    <tr>\n",
       "      <th>558</th>\n",
       "      <td>images00/istockphoto-1169314508-612x612.jpg</td>\n",
       "      <td>9</td>\n",
       "      <td>1</td>\n",
       "      <td>images00</td>\n",
       "    </tr>\n",
       "    <tr>\n",
       "      <th>559</th>\n",
       "      <td>images00/titanium-nut-bolt-1000x1000.webp</td>\n",
       "      <td>4</td>\n",
       "      <td>0</td>\n",
       "      <td>images00</td>\n",
       "    </tr>\n",
       "    <tr>\n",
       "      <th>560</th>\n",
       "      <td>images00/hex-bolt-625-mm-500x500.webp</td>\n",
       "      <td>10</td>\n",
       "      <td>1</td>\n",
       "      <td>images00</td>\n",
       "    </tr>\n",
       "  </tbody>\n",
       "</table>\n",
       "<p>561 rows × 4 columns</p>\n",
       "</div>"
      ],
      "text/plain": [
       "                                       file_path  bolts  target     group\n",
       "0                            images02/s-l400.jpg      7       1  images02\n",
       "1    images00/istockphoto-1379311021-612x612.jpg      1       0  images00\n",
       "2               images00/8167ioghFqL._SY355_.jpg      3       0  images00\n",
       "3                          images03/bolts243.png      1       0  images03\n",
       "4         images02/GoldTiBoltStanding_large.webp      4       0  images02\n",
       "..                                           ...    ...     ...       ...\n",
       "556  images00/istockphoto-1455150816-612x612.jpg      3       0  images00\n",
       "557         images04/612yDZb-cyL._AC_SL1000_.jpg     10       1  images04\n",
       "558  images00/istockphoto-1169314508-612x612.jpg      9       1  images00\n",
       "559    images00/titanium-nut-bolt-1000x1000.webp      4       0  images00\n",
       "560        images00/hex-bolt-625-mm-500x500.webp     10       1  images00\n",
       "\n",
       "[561 rows x 4 columns]"
      ]
     },
     "execution_count": 32,
     "metadata": {},
     "output_type": "execute_result"
    }
   ],
   "source": [
    "X_train"
   ]
  },
  {
   "cell_type": "code",
   "execution_count": 33,
   "metadata": {
    "colab": {
     "base_uri": "https://localhost:8080/",
     "height": 548
    },
    "id": "cT-jn1hnnQLz",
    "outputId": "7293559b-1ae1-433b-df10-35e4f440a231"
   },
   "outputs": [
    {
     "name": "stderr",
     "output_type": "stream",
     "text": [
      "2024-04-06 17:02:49.450233: I tensorflow/core/platform/cpu_feature_guard.cc:193] This TensorFlow binary is optimized with oneAPI Deep Neural Network Library (oneDNN) to use the following CPU instructions in performance-critical operations:  AVX2 FMA\n",
      "To enable them in other operations, rebuild TensorFlow with the appropriate compiler flags.\n"
     ]
    },
    {
     "name": "stdout",
     "output_type": "stream",
     "text": [
      "Image size: 128 X 128\n",
      "Patch size: 32 X 32\n",
      "Patches per image: 16\n",
      "Elements per patch: 3072\n"
     ]
    },
    {
     "data": {
      "image/png": "[encoded data removed]",
      "text/plain": [
       "<Figure size 400x400 with 1 Axes>"
      ]
     },
     "metadata": {},
     "output_type": "display_data"
    },
    {
     "data": {
      "image/png": "[encoded data removed]",
      "text/plain": [
       "<Figure size 400x400 with 16 Axes>"
      ]
     },
     "metadata": {},
     "output_type": "display_data"
    }
   ],
   "source": [
    "import matplotlib.pyplot as plt\n",
    "\n",
    "plt.figure(figsize=(4, 4))\n",
    "\n",
    "image = img_to_array(load_img(X_train.loc[np.random.choice(range(X_train.shape[0])),'file_path'],\n",
    "                     color_mode='rgb', \n",
    "                     target_size=(image_size,image_size),\n",
    "                     interpolation='nearest'))\n",
    "\n",
    "plt.imshow(image.astype(\"uint8\"))\n",
    "plt.axis(\"off\")\n",
    "\n",
    "resized_image = tf.image.resize(\n",
    "    tf.convert_to_tensor([image]), size=(image_size, image_size)\n",
    ")\n",
    "\n",
    "patches = Patches(patch_size)(resized_image)\n",
    "print(f\"Image size: {image_size} X {image_size}\")\n",
    "print(f\"Patch size: {patch_size} X {patch_size}\")\n",
    "print(f\"Patches per image: {patches.shape[1]}\")\n",
    "print(f\"Elements per patch: {patches.shape[-1]}\")\n",
    "\n",
    "n = int(np.sqrt(patches.shape[1]))\n",
    "plt.figure(figsize=(4, 4))\n",
    "for i, patch in enumerate(patches[0]):\n",
    "    ax = plt.subplot(n, n, i + 1)\n",
    "    patch_img = tf.reshape(patch, (patch_size, patch_size, 3))\n",
    "    plt.imshow(patch_img.numpy().astype(\"uint8\"))\n",
    "    plt.axis(\"off\")"
   ]
  },
  {
   "cell_type": "markdown",
   "metadata": {
    "id": "9bz0mjnXnQLz"
   },
   "source": [
    "## Implement the patch encoding layer\n",
    "\n",
    "The `PatchEncoder` layer will linearly transform a patch by projecting it into a\n",
    "vector of size `projection_dim`. In addition, it adds a learnable position\n",
    "embedding to the projected vector."
   ]
  },
  {
   "cell_type": "code",
   "execution_count": 34,
   "metadata": {
    "id": "lWO8snuunQLz"
   },
   "outputs": [],
   "source": [
    "class PatchEncoder(layers.Layer):\n",
    "    def __init__(self, num_patches, projection_dim):\n",
    "        super(PatchEncoder, self).__init__()\n",
    "        self.num_patches = num_patches\n",
    "        self.projection = layers.Dense(units=projection_dim)\n",
    "        self.position_embedding = layers.Embedding(\n",
    "            input_dim=num_patches, output_dim=projection_dim\n",
    "        )\n",
    "\n",
    "    def call(self, patch):\n",
    "        positions = tf.range(start=0, limit=self.num_patches, delta=1)\n",
    "        encoded = self.projection(patch) + self.position_embedding(positions)\n",
    "        return encoded\n"
   ]
  },
  {
   "cell_type": "markdown",
   "metadata": {
    "id": "9cMCXzIYnQLz"
   },
   "source": [
    "## Build the ViT model\n",
    "\n",
    "The ViT model consists of multiple Transformer blocks,\n",
    "which use the `layers.MultiHeadAttention` layer as a self-attention mechanism\n",
    "applied to the sequence of patches. The Transformer blocks produce a\n",
    "`[batch_size, num_patches, projection_dim]` tensor, which is processed via an\n",
    "classifier head with softmax to produce the final class probabilities output.\n",
    "\n",
    "Unlike the technique described in the [paper](https://arxiv.org/abs/2010.11929),\n",
    "which prepends a learnable embedding to the sequence of encoded patches to serve\n",
    "as the image representation, all the outputs of the final Transformer block are\n",
    "reshaped with `layers.Flatten()` and used as the image\n",
    "representation input to the classifier head.\n",
    "Note that the `layers.GlobalAveragePooling1D` layer\n",
    "could also be used instead to aggregate the outputs of the Transformer block,\n",
    "especially when the number of patches and the projection dimensions are large."
   ]
  },
  {
   "cell_type": "code",
   "execution_count": 35,
   "metadata": {
    "id": "UA5B6EHYnQL0"
   },
   "outputs": [],
   "source": [
    "\n",
    "def create_vit_classifier():\n",
    "    inputs = layers.Input(shape=input_shape)\n",
    "    \n",
    "    normalization = layers.Normalization(mean=136.78040649936997,variance=107.97868633912864**2)(inputs)\n",
    "    \n",
    "    # Create patches.\n",
    "    patches = Patches(patch_size)(normalization)\n",
    "    # Encode patches.\n",
    "    encoded_patches = PatchEncoder(num_patches, projection_dim)(patches)\n",
    "\n",
    "    # Create multiple layers of the Transformer block.\n",
    "    for _ in range(transformer_layers):\n",
    "        # Layer normalization 1.\n",
    "        x1 = layers.LayerNormalization(epsilon=1e-6)(encoded_patches)\n",
    "        # Create a multi-head attention layer.\n",
    "        attention_output = layers.MultiHeadAttention(\n",
    "            num_heads=num_heads, key_dim=projection_dim, dropout=0.3)(x1, x1)\n",
    "        # Skip connection 1.\n",
    "        x2 = layers.Add()([attention_output, encoded_patches])\n",
    "        # Layer normalization 2.\n",
    "        x3 = layers.LayerNormalization(epsilon=1e-6)(x2)\n",
    "        # MLP.\n",
    "        x3 = mlp(x3, hidden_units=transformer_units, dropout_rate=0.1)\n",
    "        # Skip connection 2.\n",
    "        encoded_patches = layers.Add()([x3, x2])\n",
    "\n",
    "    # Create a [batch_size, projection_dim] tensor.\n",
    "    representation = layers.LayerNormalization(epsilon=1e-6)(encoded_patches)\n",
    "    representation = layers.Flatten()(representation)\n",
    "    representation = layers.Dropout(0.5)(representation)\n",
    "    # Add MLP.\n",
    "    features = mlp(representation, hidden_units=mlp_head_units, dropout_rate=0.5)\n",
    "    # calculate outputs.\n",
    "    output = layers.Dense(1,activation='sigmoid')(features)\n",
    "    # Create the Keras model.\n",
    "    model = keras.Model(inputs=inputs, outputs=output)\n",
    "    return model\n"
   ]
  },
  {
   "cell_type": "markdown",
   "metadata": {
    "id": "kWEF5U0-nQL0"
   },
   "source": [
    "## Compile, train, and evaluate the model"
   ]
  },
  {
   "cell_type": "code",
   "execution_count": 36,
   "metadata": {
    "colab": {
     "base_uri": "https://localhost:8080/",
     "height": 936
    },
    "id": "W1PArCoXnQL0",
    "outputId": "9e5aeb3d-f15f-44de-f899-cca68bb18d56",
    "scrolled": false
   },
   "outputs": [],
   "source": [
    "def run_experiment(model):\n",
    "    optimizer = tfa.optimizers.AdamW(\n",
    "        learning_rate=learning_rate, weight_decay=weight_decay\n",
    "    )\n",
    "\n",
    "    model.compile(optimizer=optimizer,loss=tf.keras.losses.BinaryCrossentropy(),metrics=tf.keras.metrics.AUC(name='auc'))\n",
    "\n",
    "    early_stopping = tf.keras.callbacks.EarlyStopping(monitor='val_auc', mode='max', verbose=2, patience=30, restore_best_weights=True)\n",
    "    \n",
    "    checkpoint_filepath = \"tmp/checkpoint_ViT.h5\"\n",
    "    checkpoint_callback = keras.callbacks.ModelCheckpoint(\n",
    "        checkpoint_filepath,\n",
    "        monitor=\"val_auc\",\n",
    "        save_best_only=True,\n",
    "        save_weights_only=True,\n",
    "        mode='max'\n",
    "    )\n",
    "\n",
    "    train_generator = DataGenerator(df_X=X_train, arr_Y=y_train, batch_size=batch_size, shuffle=True,mode='trainx')\n",
    "    test_generator = DataGenerator(df_X=X_test, arr_Y=y_test, batch_size=batch_size,mode='test')\n",
    "    \n",
    "    STEP_SIZE_TRAIN = train_generator.n()//train_generator.batch_size\n",
    "    STEP_SIZE_VALID = test_generator.n()//test_generator.batch_size\n",
    "    \n",
    "    history = model.fit(x=train_generator,\n",
    "                        steps_per_epoch=STEP_SIZE_TRAIN,\n",
    "                        validation_data=test_generator,\n",
    "                        validation_steps=STEP_SIZE_VALID, \n",
    "                        batch_size=batch_size,\n",
    "                        epochs=num_epochs,\n",
    "                        callbacks=[checkpoint_callback,early_stopping])\n",
    "\n",
    "    model.load_weights(checkpoint_filepath)\n",
    "    loss = model.evaluate(x=test_generator,steps=STEP_SIZE_VALID)\n",
    "    print(f\"loss : {loss}\")\n",
    "\n",
    "    return history"
   ]
  },
  {
   "cell_type": "code",
   "execution_count": 37,
   "metadata": {
    "scrolled": false
   },
   "outputs": [
    {
     "name": "stdout",
     "output_type": "stream",
     "text": [
      "Epoch 1/500\n",
      "17/17 [==============================] - 185s 10s/step - loss: 2.2394 - auc: 0.5424 - val_loss: 0.7467 - val_auc: 0.7333\n",
      "Epoch 2/500\n",
      "17/17 [==============================] - 60s 4s/step - loss: 2.2170 - auc: 0.5885 - val_loss: 0.8679 - val_auc: 0.7249\n",
      "Epoch 3/500\n",
      "17/17 [==============================] - 59s 3s/step - loss: 1.4865 - auc: 0.5831 - val_loss: 0.5550 - val_auc: 0.7140\n",
      "Epoch 4/500\n",
      "17/17 [==============================] - 57s 3s/step - loss: 0.8534 - auc: 0.6752 - val_loss: 0.6100 - val_auc: 0.6887\n",
      "Epoch 5/500\n",
      "17/17 [==============================] - 58s 3s/step - loss: 1.0276 - auc: 0.5637 - val_loss: 0.5944 - val_auc: 0.6849\n",
      "Epoch 6/500\n",
      "17/17 [==============================] - 56s 3s/step - loss: 0.7610 - auc: 0.6345 - val_loss: 0.5416 - val_auc: 0.7288\n",
      "Epoch 7/500\n",
      "17/17 [==============================] - 60s 4s/step - loss: 0.7525 - auc: 0.6397 - val_loss: 0.5444 - val_auc: 0.7480\n",
      "Epoch 8/500\n",
      "17/17 [==============================] - 58s 3s/step - loss: 0.7200 - auc: 0.6305 - val_loss: 0.6609 - val_auc: 0.7029\n",
      "Epoch 9/500\n",
      "17/17 [==============================] - 58s 3s/step - loss: 0.6731 - auc: 0.5917 - val_loss: 0.5360 - val_auc: 0.7278\n",
      "Epoch 10/500\n",
      "17/17 [==============================] - 61s 4s/step - loss: 0.5994 - auc: 0.6662 - val_loss: 0.5227 - val_auc: 0.7813\n",
      "Epoch 11/500\n",
      "17/17 [==============================] - 61s 4s/step - loss: 0.5699 - auc: 0.6851 - val_loss: 0.5456 - val_auc: 0.7841\n",
      "Epoch 12/500\n",
      "17/17 [==============================] - 57s 3s/step - loss: 0.5828 - auc: 0.6679 - val_loss: 0.5094 - val_auc: 0.7462\n",
      "Epoch 13/500\n",
      "17/17 [==============================] - 56s 3s/step - loss: 0.5387 - auc: 0.6681 - val_loss: 0.5000 - val_auc: 0.7649\n",
      "Epoch 14/500\n",
      "17/17 [==============================] - 55s 3s/step - loss: 0.5264 - auc: 0.6884 - val_loss: 0.4861 - val_auc: 0.7607\n",
      "Epoch 15/500\n",
      "17/17 [==============================] - 54s 3s/step - loss: 0.5423 - auc: 0.6528 - val_loss: 0.5093 - val_auc: 0.7575\n",
      "Epoch 16/500\n",
      "17/17 [==============================] - 58s 3s/step - loss: 0.5320 - auc: 0.6987 - val_loss: 0.5339 - val_auc: 0.7215\n",
      "Epoch 17/500\n",
      "17/17 [==============================] - 55s 3s/step - loss: 0.5609 - auc: 0.6455 - val_loss: 0.5072 - val_auc: 0.7605\n",
      "Epoch 18/500\n",
      "17/17 [==============================] - 55s 3s/step - loss: 0.5190 - auc: 0.7032 - val_loss: 0.5006 - val_auc: 0.7820\n",
      "Epoch 19/500\n",
      "17/17 [==============================] - 58s 3s/step - loss: 0.5277 - auc: 0.6818 - val_loss: 0.4677 - val_auc: 0.7966\n",
      "Epoch 20/500\n",
      "17/17 [==============================] - 56s 3s/step - loss: 0.4948 - auc: 0.7108 - val_loss: 0.4623 - val_auc: 0.7947\n",
      "Epoch 21/500\n",
      "17/17 [==============================] - 55s 3s/step - loss: 0.4854 - auc: 0.7450 - val_loss: 0.4866 - val_auc: 0.7285\n",
      "Epoch 22/500\n",
      "17/17 [==============================] - 54s 3s/step - loss: 0.5268 - auc: 0.7095 - val_loss: 0.5114 - val_auc: 0.7722\n",
      "Epoch 23/500\n",
      "17/17 [==============================] - 55s 3s/step - loss: 0.5768 - auc: 0.6267 - val_loss: 0.4916 - val_auc: 0.7586\n",
      "Epoch 24/500\n",
      "17/17 [==============================] - 54s 3s/step - loss: 0.5119 - auc: 0.6962 - val_loss: 0.5148 - val_auc: 0.7791\n",
      "Epoch 25/500\n",
      "17/17 [==============================] - 58s 3s/step - loss: 0.5045 - auc: 0.7144 - val_loss: 0.4764 - val_auc: 0.8000\n",
      "Epoch 26/500\n",
      "17/17 [==============================] - 55s 3s/step - loss: 0.5096 - auc: 0.7252 - val_loss: 0.5105 - val_auc: 0.7770\n",
      "Epoch 27/500\n",
      "17/17 [==============================] - 55s 3s/step - loss: 0.4793 - auc: 0.7298 - val_loss: 0.5259 - val_auc: 0.7213\n",
      "Epoch 28/500\n",
      "17/17 [==============================] - 54s 3s/step - loss: 0.5235 - auc: 0.6864 - val_loss: 0.5047 - val_auc: 0.7475\n",
      "Epoch 29/500\n",
      "17/17 [==============================] - 54s 3s/step - loss: 0.5008 - auc: 0.7367 - val_loss: 0.5049 - val_auc: 0.7496\n",
      "Epoch 30/500\n",
      "17/17 [==============================] - 54s 3s/step - loss: 0.4838 - auc: 0.7290 - val_loss: 0.5316 - val_auc: 0.7387\n",
      "Epoch 31/500\n",
      "17/17 [==============================] - 54s 3s/step - loss: 0.4783 - auc: 0.7386 - val_loss: 0.5343 - val_auc: 0.7494\n",
      "Epoch 32/500\n",
      "17/17 [==============================] - 54s 3s/step - loss: 0.4527 - auc: 0.7735 - val_loss: 0.6048 - val_auc: 0.7411\n",
      "Epoch 33/500\n",
      "17/17 [==============================] - 54s 3s/step - loss: 0.4661 - auc: 0.7389 - val_loss: 0.4701 - val_auc: 0.7605\n",
      "Epoch 34/500\n",
      "17/17 [==============================] - 54s 3s/step - loss: 0.4456 - auc: 0.7927 - val_loss: 0.5571 - val_auc: 0.7693\n",
      "Epoch 35/500\n",
      "17/17 [==============================] - 53s 3s/step - loss: 0.4535 - auc: 0.7556 - val_loss: 0.6083 - val_auc: 0.7037\n",
      "Epoch 36/500\n",
      "17/17 [==============================] - 52s 3s/step - loss: 0.4405 - auc: 0.7981 - val_loss: 0.6475 - val_auc: 0.7012\n",
      "Epoch 37/500\n",
      "17/17 [==============================] - 52s 3s/step - loss: 0.4406 - auc: 0.7851 - val_loss: 0.7964 - val_auc: 0.7327\n",
      "Epoch 38/500\n",
      "17/17 [==============================] - 52s 3s/step - loss: 0.4592 - auc: 0.7622 - val_loss: 0.6179 - val_auc: 0.7374\n",
      "Epoch 39/500\n",
      "17/17 [==============================] - 52s 3s/step - loss: 0.4364 - auc: 0.7933 - val_loss: 0.6523 - val_auc: 0.7311\n",
      "Epoch 40/500\n",
      "17/17 [==============================] - 52s 3s/step - loss: 0.4245 - auc: 0.7900 - val_loss: 0.5952 - val_auc: 0.7598\n",
      "Epoch 41/500\n",
      "17/17 [==============================] - 52s 3s/step - loss: 0.4240 - auc: 0.8020 - val_loss: 0.9200 - val_auc: 0.7370\n",
      "Epoch 42/500\n",
      "17/17 [==============================] - 52s 3s/step - loss: 0.4347 - auc: 0.7837 - val_loss: 0.7074 - val_auc: 0.7227\n",
      "Epoch 43/500\n",
      "17/17 [==============================] - 52s 3s/step - loss: 0.4218 - auc: 0.8023 - val_loss: 0.7330 - val_auc: 0.7541\n",
      "Epoch 44/500\n",
      "17/17 [==============================] - 52s 3s/step - loss: 0.4081 - auc: 0.8270 - val_loss: 0.7043 - val_auc: 0.7484\n",
      "Epoch 45/500\n",
      "17/17 [==============================] - 53s 3s/step - loss: 0.4305 - auc: 0.8228 - val_loss: 0.6539 - val_auc: 0.7605\n",
      "Epoch 46/500\n",
      "17/17 [==============================] - 53s 3s/step - loss: 0.4343 - auc: 0.8161 - val_loss: 0.7160 - val_auc: 0.7585\n",
      "Epoch 47/500\n",
      "17/17 [==============================] - 52s 3s/step - loss: 0.4036 - auc: 0.8374 - val_loss: 0.6853 - val_auc: 0.7760\n",
      "Epoch 48/500\n",
      "17/17 [==============================] - 52s 3s/step - loss: 0.3961 - auc: 0.8490 - val_loss: 0.7862 - val_auc: 0.7418\n",
      "Epoch 49/500\n",
      "17/17 [==============================] - 52s 3s/step - loss: 0.4198 - auc: 0.8372 - val_loss: 0.7354 - val_auc: 0.6272\n",
      "Epoch 50/500\n",
      "17/17 [==============================] - 52s 3s/step - loss: 0.4899 - auc: 0.7698 - val_loss: 0.5364 - val_auc: 0.7478\n",
      "Epoch 51/500\n",
      "17/17 [==============================] - 53s 3s/step - loss: 0.4381 - auc: 0.8179 - val_loss: 0.7426 - val_auc: 0.7428\n",
      "Epoch 52/500\n",
      "17/17 [==============================] - 52s 3s/step - loss: 0.4261 - auc: 0.8183 - val_loss: 0.4586 - val_auc: 0.7956\n",
      "Epoch 53/500\n",
      "17/17 [==============================] - 52s 3s/step - loss: 0.4273 - auc: 0.8124 - val_loss: 0.5088 - val_auc: 0.7896\n",
      "Epoch 54/500\n",
      "17/17 [==============================] - 56s 3s/step - loss: 0.3792 - auc: 0.8654 - val_loss: 0.6410 - val_auc: 0.8053\n",
      "Epoch 55/500\n",
      "17/17 [==============================] - 53s 3s/step - loss: 0.4237 - auc: 0.8288 - val_loss: 0.7116 - val_auc: 0.7458\n",
      "Epoch 56/500\n",
      "17/17 [==============================] - 56s 3s/step - loss: 0.3993 - auc: 0.8493 - val_loss: 0.4327 - val_auc: 0.8287\n",
      "Epoch 57/500\n",
      "17/17 [==============================] - 53s 3s/step - loss: 0.3933 - auc: 0.8502 - val_loss: 0.5100 - val_auc: 0.8216\n",
      "Epoch 58/500\n",
      "17/17 [==============================] - 53s 3s/step - loss: 0.3720 - auc: 0.8795 - val_loss: 0.5668 - val_auc: 0.8175\n",
      "Epoch 59/500\n",
      "17/17 [==============================] - 52s 3s/step - loss: 0.3529 - auc: 0.8891 - val_loss: 0.6333 - val_auc: 0.7981\n",
      "Epoch 60/500\n",
      "17/17 [==============================] - 52s 3s/step - loss: 0.3230 - auc: 0.9123 - val_loss: 0.7203 - val_auc: 0.7868\n",
      "Epoch 61/500\n",
      "17/17 [==============================] - 55s 3s/step - loss: 0.3356 - auc: 0.9030 - val_loss: 0.6298 - val_auc: 0.7886\n",
      "Epoch 62/500\n",
      "17/17 [==============================] - 59s 3s/step - loss: 0.4166 - auc: 0.8420 - val_loss: 0.5343 - val_auc: 0.7978\n",
      "Epoch 63/500\n",
      "17/17 [==============================] - 55s 3s/step - loss: 0.3641 - auc: 0.8819 - val_loss: 0.8033 - val_auc: 0.7684\n",
      "Epoch 64/500\n",
      "17/17 [==============================] - 56s 3s/step - loss: 0.3383 - auc: 0.8937 - val_loss: 0.7245 - val_auc: 0.8004\n",
      "Epoch 65/500\n",
      "17/17 [==============================] - 57s 3s/step - loss: 0.3100 - auc: 0.9182 - val_loss: 0.7622 - val_auc: 0.7794\n",
      "Epoch 66/500\n",
      "17/17 [==============================] - 57s 3s/step - loss: 0.3394 - auc: 0.9055 - val_loss: 0.5927 - val_auc: 0.8177\n",
      "Epoch 67/500\n",
      "17/17 [==============================] - 60s 4s/step - loss: 0.3493 - auc: 0.8911 - val_loss: 0.7178 - val_auc: 0.7719\n",
      "Epoch 68/500\n",
      "17/17 [==============================] - 60s 4s/step - loss: 0.3394 - auc: 0.8982 - val_loss: 0.7742 - val_auc: 0.7757\n",
      "Epoch 69/500\n",
      "17/17 [==============================] - 59s 3s/step - loss: 0.3408 - auc: 0.8940 - val_loss: 0.7851 - val_auc: 0.7670\n",
      "Epoch 70/500\n",
      "17/17 [==============================] - 59s 3s/step - loss: 0.3176 - auc: 0.9100 - val_loss: 0.8526 - val_auc: 0.7510\n",
      "Epoch 71/500\n",
      "17/17 [==============================] - 60s 4s/step - loss: 0.3030 - auc: 0.9216 - val_loss: 1.0050 - val_auc: 0.7415\n",
      "Epoch 72/500\n",
      "17/17 [==============================] - 58s 3s/step - loss: 0.3012 - auc: 0.9244 - val_loss: 1.1859 - val_auc: 0.7499\n",
      "Epoch 73/500\n",
      "17/17 [==============================] - 57s 3s/step - loss: 0.3265 - auc: 0.9055 - val_loss: 0.9092 - val_auc: 0.7481\n",
      "Epoch 74/500\n",
      "17/17 [==============================] - 58s 3s/step - loss: 0.3012 - auc: 0.9261 - val_loss: 0.7358 - val_auc: 0.7845\n",
      "Epoch 75/500\n",
      "17/17 [==============================] - 59s 3s/step - loss: 0.3234 - auc: 0.9207 - val_loss: 0.8059 - val_auc: 0.8113\n",
      "Epoch 76/500\n",
      "17/17 [==============================] - 59s 3s/step - loss: 0.2753 - auc: 0.9397 - val_loss: 1.0392 - val_auc: 0.7646\n",
      "Epoch 77/500\n",
      "17/17 [==============================] - 59s 3s/step - loss: 0.2778 - auc: 0.9333 - val_loss: 0.9281 - val_auc: 0.7719\n",
      "Epoch 78/500\n",
      "17/17 [==============================] - 61s 4s/step - loss: 0.2893 - auc: 0.9316 - val_loss: 1.0960 - val_auc: 0.7342\n",
      "Epoch 79/500\n",
      "17/17 [==============================] - 61s 4s/step - loss: 0.3878 - auc: 0.8829 - val_loss: 0.6121 - val_auc: 0.7256\n",
      "Epoch 80/500\n",
      "17/17 [==============================] - 61s 4s/step - loss: 0.4168 - auc: 0.8491 - val_loss: 0.7252 - val_auc: 0.7471\n",
      "Epoch 81/500\n",
      "17/17 [==============================] - 59s 3s/step - loss: 0.4113 - auc: 0.8405 - val_loss: 0.6152 - val_auc: 0.7488\n",
      "Epoch 82/500\n",
      "17/17 [==============================] - 59s 3s/step - loss: 0.3870 - auc: 0.8782 - val_loss: 0.6888 - val_auc: 0.7592\n",
      "Epoch 83/500\n",
      "17/17 [==============================] - 60s 4s/step - loss: 0.3562 - auc: 0.9019 - val_loss: 0.7176 - val_auc: 0.7668\n",
      "Epoch 84/500\n",
      "17/17 [==============================] - 83s 5s/step - loss: 0.2989 - auc: 0.9293 - val_loss: 1.1117 - val_auc: 0.7294\n",
      "Epoch 85/500\n",
      "17/17 [==============================] - 60s 4s/step - loss: 0.2915 - auc: 0.9334 - val_loss: 0.8392 - val_auc: 0.7648\n",
      "Epoch 86/500\n",
      "17/17 [==============================] - ETA: 0s - loss: 0.2670 - auc: 0.9403Restoring model weights from the end of the best epoch: 56.\n",
      "17/17 [==============================] - 60s 4s/step - loss: 0.2670 - auc: 0.9403 - val_loss: 0.9449 - val_auc: 0.7349\n",
      "Epoch 86: early stopping\n",
      "4/4 [==============================] - 5s 1s/step - loss: 0.4327 - auc: 0.8287\n",
      "loss : [0.4326852858066559, 0.8286550045013428]\n"
     ]
    }
   ],
   "source": [
    "vit_classifier = create_vit_classifier()\n",
    "history = run_experiment(vit_classifier)"
   ]
  },
  {
   "cell_type": "code",
   "execution_count": 38,
   "metadata": {},
   "outputs": [
    {
     "name": "stdout",
     "output_type": "stream",
     "text": [
      "141/141 [==============================] - 18s 104ms/step\n"
     ]
    }
   ],
   "source": [
    "test_generator = DataGenerator(df_X=X_test, arr_Y=y_test, batch_size=1,mode='test')\n",
    "STEP_SIZE_VALID = test_generator.n()\n",
    "\n",
    "predict_result = vit_classifier.predict(test_generator,steps=STEP_SIZE_VALID)\n",
    "#prediction = 10 ** predict_result\n",
    "prediction = predict_result"
   ]
  },
  {
   "cell_type": "code",
   "execution_count": 39,
   "metadata": {},
   "outputs": [],
   "source": [
    "results = pd.DataFrame()\n",
    "results = X_test\n",
    "results['prediction'] = prediction"
   ]
  },
  {
   "cell_type": "code",
   "execution_count": 40,
   "metadata": {},
   "outputs": [
    {
     "data": {
      "text/html": [
       "<div>\n",
       "<style scoped>\n",
       "    .dataframe tbody tr th:only-of-type {\n",
       "        vertical-align: middle;\n",
       "    }\n",
       "\n",
       "    .dataframe tbody tr th {\n",
       "        vertical-align: top;\n",
       "    }\n",
       "\n",
       "    .dataframe thead th {\n",
       "        text-align: right;\n",
       "    }\n",
       "</style>\n",
       "<table border=\"1\" class=\"dataframe\">\n",
       "  <thead>\n",
       "    <tr style=\"text-align: right;\">\n",
       "      <th></th>\n",
       "      <th>file_path</th>\n",
       "      <th>bolts</th>\n",
       "      <th>target</th>\n",
       "      <th>group</th>\n",
       "      <th>prediction</th>\n",
       "    </tr>\n",
       "  </thead>\n",
       "  <tbody>\n",
       "    <tr>\n",
       "      <th>0</th>\n",
       "      <td>images02/coach-bolts-plus-nuts-carriage-bolts-...</td>\n",
       "      <td>4</td>\n",
       "      <td>0</td>\n",
       "      <td>images02</td>\n",
       "      <td>0.528727</td>\n",
       "    </tr>\n",
       "    <tr>\n",
       "      <th>1</th>\n",
       "      <td>images03/bolts184.png</td>\n",
       "      <td>1</td>\n",
       "      <td>0</td>\n",
       "      <td>images03</td>\n",
       "      <td>0.000007</td>\n",
       "    </tr>\n",
       "    <tr>\n",
       "      <th>2</th>\n",
       "      <td>images01/s-l1600.jpg</td>\n",
       "      <td>2</td>\n",
       "      <td>0</td>\n",
       "      <td>images01</td>\n",
       "      <td>0.507461</td>\n",
       "    </tr>\n",
       "    <tr>\n",
       "      <th>3</th>\n",
       "      <td>images00/main-qimg-a028dc83c41297927c415bad661...</td>\n",
       "      <td>11</td>\n",
       "      <td>1</td>\n",
       "      <td>images00</td>\n",
       "      <td>0.412897</td>\n",
       "    </tr>\n",
       "    <tr>\n",
       "      <th>4</th>\n",
       "      <td>images00/istockphoto-97121349-612x612.jpg</td>\n",
       "      <td>1</td>\n",
       "      <td>0</td>\n",
       "      <td>images00</td>\n",
       "      <td>0.497156</td>\n",
       "    </tr>\n",
       "    <tr>\n",
       "      <th>...</th>\n",
       "      <td>...</td>\n",
       "      <td>...</td>\n",
       "      <td>...</td>\n",
       "      <td>...</td>\n",
       "      <td>...</td>\n",
       "    </tr>\n",
       "    <tr>\n",
       "      <th>136</th>\n",
       "      <td>images03/bolts197.png</td>\n",
       "      <td>1</td>\n",
       "      <td>0</td>\n",
       "      <td>images03</td>\n",
       "      <td>0.000002</td>\n",
       "    </tr>\n",
       "    <tr>\n",
       "      <th>137</th>\n",
       "      <td>images00/istockphoto-1438665802-612x612.jpg</td>\n",
       "      <td>6</td>\n",
       "      <td>1</td>\n",
       "      <td>images00</td>\n",
       "      <td>0.000517</td>\n",
       "    </tr>\n",
       "    <tr>\n",
       "      <th>138</th>\n",
       "      <td>images00/istockphoto-1211333306-612x612.jpg</td>\n",
       "      <td>1</td>\n",
       "      <td>0</td>\n",
       "      <td>images00</td>\n",
       "      <td>0.000043</td>\n",
       "    </tr>\n",
       "    <tr>\n",
       "      <th>139</th>\n",
       "      <td>images01/128-1287219_png-bolts-nuts-bolts-and-...</td>\n",
       "      <td>2</td>\n",
       "      <td>0</td>\n",
       "      <td>images01</td>\n",
       "      <td>0.489001</td>\n",
       "    </tr>\n",
       "    <tr>\n",
       "      <th>140</th>\n",
       "      <td>images03/bolts139.png</td>\n",
       "      <td>1</td>\n",
       "      <td>0</td>\n",
       "      <td>images03</td>\n",
       "      <td>0.000033</td>\n",
       "    </tr>\n",
       "  </tbody>\n",
       "</table>\n",
       "<p>141 rows × 5 columns</p>\n",
       "</div>"
      ],
      "text/plain": [
       "                                             file_path  bolts  target  \\\n",
       "0    images02/coach-bolts-plus-nuts-carriage-bolts-...      4       0   \n",
       "1                                images03/bolts184.png      1       0   \n",
       "2                                 images01/s-l1600.jpg      2       0   \n",
       "3    images00/main-qimg-a028dc83c41297927c415bad661...     11       1   \n",
       "4            images00/istockphoto-97121349-612x612.jpg      1       0   \n",
       "..                                                 ...    ...     ...   \n",
       "136                              images03/bolts197.png      1       0   \n",
       "137        images00/istockphoto-1438665802-612x612.jpg      6       1   \n",
       "138        images00/istockphoto-1211333306-612x612.jpg      1       0   \n",
       "139  images01/128-1287219_png-bolts-nuts-bolts-and-...      2       0   \n",
       "140                              images03/bolts139.png      1       0   \n",
       "\n",
       "        group  prediction  \n",
       "0    images02    0.528727  \n",
       "1    images03    0.000007  \n",
       "2    images01    0.507461  \n",
       "3    images00    0.412897  \n",
       "4    images00    0.497156  \n",
       "..        ...         ...  \n",
       "136  images03    0.000002  \n",
       "137  images00    0.000517  \n",
       "138  images00    0.000043  \n",
       "139  images01    0.489001  \n",
       "140  images03    0.000033  \n",
       "\n",
       "[141 rows x 5 columns]"
      ]
     },
     "execution_count": 40,
     "metadata": {},
     "output_type": "execute_result"
    }
   ],
   "source": [
    "results"
   ]
  },
  {
   "cell_type": "code",
   "execution_count": 26,
   "metadata": {},
   "outputs": [],
   "source": [
    "results.to_csv('results_classification.csv',index=False)"
   ]
  },
  {
   "cell_type": "raw",
   "metadata": {},
   "source": []
  }
 ],
 "metadata": {
  "accelerator": "GPU",
  "colab": {
   "provenance": [],
   "toc_visible": true
  },
  "environment": {
   "name": "tf2-gpu.2-4.m61",
   "type": "gcloud",
   "uri": "gcr.io/deeplearning-platform-release/tf2-gpu.2-4:m61"
  },
  "gpuClass": "standard",
  "kernelspec": {
   "display_name": "Python 3 (ipykernel)",
   "language": "python",
   "name": "python3"
  },
  "language_info": {
   "codemirror_mode": {
    "name": "ipython",
    "version": 3
   },
   "file_extension": ".py",
   "mimetype": "text/x-python",
   "name": "python",
   "nbconvert_exporter": "python",
   "pygments_lexer": "ipython3",
   "version": "3.9.18"
  }
 },
 "nbformat": 4,
 "nbformat_minor": 1
}

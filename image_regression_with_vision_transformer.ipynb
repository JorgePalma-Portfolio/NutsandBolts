{
 "cells": [
  {
   "cell_type": "code",
   "execution_count": 1,
   "metadata": {},
   "outputs": [
    {
     "data": {
      "text/html": [
       "<style>.container { width:90% !important; }</style>"
      ],
      "text/plain": [
       "<IPython.core.display.HTML object>"
      ]
     },
     "metadata": {},
     "output_type": "display_data"
    },
    {
     "data": {
      "text/html": [
       "<style>div.output_area{max-height:10000px;overflow:scroll;}</style>"
      ],
      "text/plain": [
       "<IPython.core.display.HTML object>"
      ]
     },
     "metadata": {},
     "output_type": "display_data"
    },
    {
     "name": "stdout",
     "output_type": "stream",
     "text": [
      "Python: 3.10.4 | packaged by conda-forge | (main, Mar 30 2022, 08:38:02) [MSC v.1916 64 bit (AMD64)]\n",
      "Notebook Last Run Initiated: 2023-01-19 14:34:35.227487\n"
     ]
    }
   ],
   "source": [
    "%load_ext autoreload\n",
    "%autoreload\n",
    "\n",
    "## This expands a notebook to full width\n",
    "from IPython.display import display, HTML\n",
    "\n",
    "display(HTML(\"<style>.container { width:90% !important; }</style>\"))\n",
    "display(HTML(\"\"\"<style>div.output_area{max-height:10000px;overflow:scroll;}</style>\"\"\"))\n",
    "\n",
    "## Show Python Version\n",
    "import sys\n",
    "print(\"Python: {0}\".format(sys.version))\n",
    "\n",
    "## Show Current Time\n",
    "import datetime as dt\n",
    "start = dt.datetime.now()\n",
    "print(\"Notebook Last Run Initiated: \"+str(start))"
   ]
  },
  {
   "cell_type": "markdown",
   "metadata": {
    "id": "HoEiQ-aBnQLt"
   },
   "source": [
    "## Setup"
   ]
  },
  {
   "cell_type": "code",
   "execution_count": 2,
   "metadata": {
    "id": "PZ3hSrj4nQLu"
   },
   "outputs": [],
   "source": [
    "import numpy as np\n",
    "import tensorflow as tf\n",
    "from tensorflow import keras\n",
    "from tensorflow.keras import layers\n",
    "from tensorflow.keras.preprocessing.image import ImageDataGenerator,load_img, img_to_array\n",
    "import tensorflow_addons as tfa\n",
    "import pandas as pd\n",
    "import os\n",
    "from sklearn.model_selection import train_test_split\n",
    "\n",
    "from PIL import Image\n",
    "from PIL import ImageEnhance\n",
    "\n",
    "from random import randrange"
   ]
  },
  {
   "cell_type": "code",
   "execution_count": 3,
   "metadata": {},
   "outputs": [],
   "source": [
    "import warnings\n",
    "warnings.filterwarnings('ignore')"
   ]
  },
  {
   "cell_type": "code",
   "execution_count": 4,
   "metadata": {},
   "outputs": [
    {
     "name": "stdout",
     "output_type": "stream",
     "text": [
      "Num GPUs Available:  1\n",
      "2.9.0\n"
     ]
    }
   ],
   "source": [
    "print(\"Num GPUs Available: \", len(tf.config.experimental.list_physical_devices('GPU')))\n",
    "print(tf.__version__)"
   ]
  },
  {
   "cell_type": "code",
   "execution_count": 5,
   "metadata": {},
   "outputs": [],
   "source": [
    "def get_filepaths(directory):\n",
    "    \n",
    "    file_paths = []  # List which will store all of the full filepaths.\n",
    "    file_image = []  # Image filename\n",
    "   \n",
    "    # Walk the tree.\n",
    "    for root, directories, files in os.walk(directory):\n",
    "        for filename in files:\n",
    "            # Join the two strings in order to form the full filepath.\n",
    "                       \n",
    "            filepath = os.path.join(root, filename)\n",
    "            file_paths.append(filepath)  # Add it to the list.       \n",
    "            file_image.append(filename.split('.')[0])\n",
    "\n",
    "    return file_paths, file_image "
   ]
  },
  {
   "cell_type": "code",
   "execution_count": 6,
   "metadata": {},
   "outputs": [],
   "source": [
    "class DataGenerator(tf.keras.utils.Sequence):\n",
    "        \n",
    "    def __init__(self, df_X, arr_Y, batch_size=32,shuffle=False,image_size=128,mode='train'):\n",
    "        self.batch_size = batch_size\n",
    "        self.df_X = df_X\n",
    "        self.arr_Y = arr_Y\n",
    "        self.indices = self.df_X.index.tolist()\n",
    "        self.shuffle = shuffle\n",
    "        self.image_size = image_size\n",
    "        self.mode = mode\n",
    "        self.on_epoch_end()\n",
    "        \n",
    "    def __len__(self):\n",
    "        return int(np.floor(len(self.indices) / self.batch_size))\n",
    "\n",
    "    def __getitem__(self, index):\n",
    "        index = self.index[index * self.batch_size:(index + 1) * self.batch_size]\n",
    "        batch = [self.indices[k] for k in index]\n",
    "        \n",
    "        X, y = self.__get_data(batch)\n",
    "        return X, y\n",
    "    \n",
    "    def n(self):\n",
    "        return len(self.indices)\n",
    "    \n",
    "    def on_epoch_end(self):\n",
    "        self.index = np.arange(len(self.indices))\n",
    "        if self.shuffle == True:\n",
    "            np.random.shuffle(self.index)\n",
    "\n",
    "    def __get_data(self, batch):\n",
    "        X = []\n",
    "        y = []\n",
    "               \n",
    "        for i, id in enumerate(batch):\n",
    "                       \n",
    "            # Data\n",
    "            file = self.df_X.iloc[self.indices[id],0]\n",
    "            img = load_img(file,color_mode='rgb', target_size=(self.image_size,self.image_size),interpolation='nearest')\n",
    "            img = img_to_array(img).astype(np.float32)\n",
    "\n",
    "            if self.mode == 'train':\n",
    "                img = tf.image.random_flip_left_right(img)\n",
    "                img = tf.image.random_flip_up_down(img)\n",
    "                #img = tf.keras.layers.RandomRotation(factor=(-0.2, 0.2))(img)\n",
    "            \n",
    "            X.append(img)\n",
    "            y.append(self.arr_Y[self.indices[id]])\n",
    "            \n",
    "        return np.array(X), np.array(y).reshape(self.batch_size,1)"
   ]
  },
  {
   "cell_type": "markdown",
   "metadata": {
    "id": "Rk_OOT73nQLv"
   },
   "source": [
    "## Prepare the data"
   ]
  },
  {
   "cell_type": "code",
   "execution_count": 7,
   "metadata": {},
   "outputs": [
    {
     "data": {
      "text/plain": [
       "(702, 4)"
      ]
     },
     "execution_count": 7,
     "metadata": {},
     "output_type": "execute_result"
    }
   ],
   "source": [
    "data = pd.read_csv('train.csv')\n",
    "data.shape"
   ]
  },
  {
   "cell_type": "code",
   "execution_count": 8,
   "metadata": {},
   "outputs": [],
   "source": [
    "data = data.loc[data.group != 'images03']"
   ]
  },
  {
   "cell_type": "code",
   "execution_count": 9,
   "metadata": {},
   "outputs": [],
   "source": [
    "#data = data.loc[data.bolts <= 15]\n",
    "#data = data.loc[data.bolts > 0]"
   ]
  },
  {
   "cell_type": "code",
   "execution_count": 10,
   "metadata": {},
   "outputs": [
    {
     "data": {
      "text/plain": [
       "(503, 4)"
      ]
     },
     "execution_count": 10,
     "metadata": {},
     "output_type": "execute_result"
    }
   ],
   "source": [
    "data.shape"
   ]
  },
  {
   "cell_type": "code",
   "execution_count": 11,
   "metadata": {
    "colab": {
     "base_uri": "https://localhost:8080/"
    },
    "id": "eEw85rnrnQLv",
    "outputId": "7f17ce76-b1be-4acc-a0c1-a377031e333e"
   },
   "outputs": [],
   "source": [
    "input_shape = (128, 128, 3)"
   ]
  },
  {
   "cell_type": "code",
   "execution_count": 12,
   "metadata": {},
   "outputs": [],
   "source": [
    "X_train, X_test, y_train, y_test = train_test_split(data, data.bolts.values, test_size=0.20, random_state=1)"
   ]
  },
  {
   "cell_type": "code",
   "execution_count": 13,
   "metadata": {},
   "outputs": [],
   "source": [
    "X_train.reset_index(inplace=True,drop=True)\n",
    "X_test.reset_index(inplace=True,drop=True)"
   ]
  },
  {
   "cell_type": "markdown",
   "metadata": {
    "id": "w1EBdEeEnQLv"
   },
   "source": [
    "## Configure the hyperparameters"
   ]
  },
  {
   "cell_type": "code",
   "execution_count": 14,
   "metadata": {
    "id": "Ttm-h1-pnQLw"
   },
   "outputs": [],
   "source": [
    "learning_rate = 0.001\n",
    "weight_decay = 0.0001\n",
    "batch_size = 32\n",
    "num_epochs = 500\n",
    "image_size = 128  # We'll resize input images to this size\n",
    "patch_size = 32  # Size of the patches to be extract from the input images\n",
    "num_patches = (image_size // patch_size) ** 2\n",
    "projection_dim = 256\n",
    "num_heads = 20# 16\n",
    "transformer_units = [\n",
    "    projection_dim * 2,\n",
    "    projection_dim,\n",
    "]  # Size of the transformer layers\n",
    "transformer_layers = 24\n",
    "mlp_head_units = [2048, 1024, 512]  # Size of the dense layers of the final classifier\n"
   ]
  },
  {
   "cell_type": "markdown",
   "metadata": {
    "id": "XXUH617mnQLx"
   },
   "source": [
    "## Implement multilayer perceptron (MLP)"
   ]
  },
  {
   "cell_type": "code",
   "execution_count": 15,
   "metadata": {
    "id": "4WgVOvuGnQLx"
   },
   "outputs": [],
   "source": [
    "def mlp(x, hidden_units, dropout_rate):\n",
    "    for units in hidden_units:\n",
    "        x = layers.Dense(units, activation=tf.nn.gelu)(x)\n",
    "        x = layers.Dropout(dropout_rate)(x)\n",
    "    return x"
   ]
  },
  {
   "cell_type": "markdown",
   "metadata": {
    "id": "Ii-KgS1ZnQLy"
   },
   "source": [
    "## Implement patch creation as a layer"
   ]
  },
  {
   "cell_type": "code",
   "execution_count": 16,
   "metadata": {
    "id": "eFUMNATznQLy"
   },
   "outputs": [],
   "source": [
    "class Patches(layers.Layer):\n",
    "    def __init__(self, patch_size):\n",
    "        super(Patches, self).__init__()\n",
    "        self.patch_size = patch_size\n",
    "\n",
    "    def call(self, images):\n",
    "        batch_size = tf.shape(images)[0]\n",
    "        patches = tf.image.extract_patches(\n",
    "            images=images,\n",
    "            sizes=[1, self.patch_size, self.patch_size, 1],\n",
    "            strides=[1, self.patch_size, self.patch_size, 1],\n",
    "            rates=[1, 1, 1, 1],\n",
    "            padding=\"VALID\",\n",
    "        )\n",
    "        patch_dims = patches.shape[-1]\n",
    "        patches = tf.reshape(patches, [batch_size, -1, patch_dims])\n",
    "        return patches"
   ]
  },
  {
   "cell_type": "code",
   "execution_count": 17,
   "metadata": {
    "colab": {
     "base_uri": "https://localhost:8080/",
     "height": 548
    },
    "id": "cT-jn1hnnQLz",
    "outputId": "7293559b-1ae1-433b-df10-35e4f440a231"
   },
   "outputs": [
    {
     "name": "stdout",
     "output_type": "stream",
     "text": [
      "Image size: 128 X 128\n",
      "Patch size: 32 X 32\n",
      "Patches per image: 16\n",
      "Elements per patch: 3072\n"
     ]
    },
    {
     "data": {
      "image/png": "[encoded data removed]",
      "text/plain": [
       "<Figure size 288x288 with 1 Axes>"
      ]
     },
     "metadata": {
      "needs_background": "light"
     },
     "output_type": "display_data"
    },
    {
     "data": {
      "image/png": "[encoded data removed]",
      "text/plain": [
       "<Figure size 288x288 with 16 Axes>"
      ]
     },
     "metadata": {
      "needs_background": "light"
     },
     "output_type": "display_data"
    }
   ],
   "source": [
    "import matplotlib.pyplot as plt\n",
    "\n",
    "plt.figure(figsize=(4, 4))\n",
    "\n",
    "image = img_to_array(load_img(X_train.loc[np.random.choice(range(X_train.shape[0])),'file_path'],\n",
    "                     color_mode='rgb', \n",
    "                     target_size=(image_size,image_size),\n",
    "                     interpolation='nearest'))\n",
    "\n",
    "plt.imshow(image.astype(\"uint8\"))\n",
    "plt.axis(\"off\")\n",
    "\n",
    "resized_image = tf.image.resize(\n",
    "    tf.convert_to_tensor([image]), size=(image_size, image_size)\n",
    ")\n",
    "\n",
    "patches = Patches(patch_size)(resized_image)\n",
    "print(f\"Image size: {image_size} X {image_size}\")\n",
    "print(f\"Patch size: {patch_size} X {patch_size}\")\n",
    "print(f\"Patches per image: {patches.shape[1]}\")\n",
    "print(f\"Elements per patch: {patches.shape[-1]}\")\n",
    "\n",
    "n = int(np.sqrt(patches.shape[1]))\n",
    "plt.figure(figsize=(4, 4))\n",
    "for i, patch in enumerate(patches[0]):\n",
    "    ax = plt.subplot(n, n, i + 1)\n",
    "    patch_img = tf.reshape(patch, (patch_size, patch_size, 3))\n",
    "    plt.imshow(patch_img.numpy().astype(\"uint8\"))\n",
    "    plt.axis(\"off\")"
   ]
  },
  {
   "cell_type": "markdown",
   "metadata": {
    "id": "9bz0mjnXnQLz"
   },
   "source": [
    "## Implement the patch encoding layer\n",
    "\n",
    "The `PatchEncoder` layer will linearly transform a patch by projecting it into a\n",
    "vector of size `projection_dim`. In addition, it adds a learnable position\n",
    "embedding to the projected vector."
   ]
  },
  {
   "cell_type": "code",
   "execution_count": 18,
   "metadata": {
    "id": "lWO8snuunQLz"
   },
   "outputs": [],
   "source": [
    "class PatchEncoder(layers.Layer):\n",
    "    def __init__(self, num_patches, projection_dim):\n",
    "        super(PatchEncoder, self).__init__()\n",
    "        self.num_patches = num_patches\n",
    "        self.projection = layers.Dense(units=projection_dim)\n",
    "        self.position_embedding = layers.Embedding(\n",
    "            input_dim=num_patches, output_dim=projection_dim\n",
    "        )\n",
    "\n",
    "    def call(self, patch):\n",
    "        positions = tf.range(start=0, limit=self.num_patches, delta=1)\n",
    "        encoded = self.projection(patch) + self.position_embedding(positions)\n",
    "        return encoded\n"
   ]
  },
  {
   "cell_type": "markdown",
   "metadata": {
    "id": "9cMCXzIYnQLz"
   },
   "source": [
    "## Build the ViT model\n",
    "\n",
    "The ViT model consists of multiple Transformer blocks,\n",
    "which use the `layers.MultiHeadAttention` layer as a self-attention mechanism\n",
    "applied to the sequence of patches. The Transformer blocks produce a\n",
    "`[batch_size, num_patches, projection_dim]` tensor, which is processed via an\n",
    "classifier head with softmax to produce the final class probabilities output.\n",
    "\n",
    "Unlike the technique described in the [paper](https://arxiv.org/abs/2010.11929),\n",
    "which prepends a learnable embedding to the sequence of encoded patches to serve\n",
    "as the image representation, all the outputs of the final Transformer block are\n",
    "reshaped with `layers.Flatten()` and used as the image\n",
    "representation input to the classifier head.\n",
    "Note that the `layers.GlobalAveragePooling1D` layer\n",
    "could also be used instead to aggregate the outputs of the Transformer block,\n",
    "especially when the number of patches and the projection dimensions are large."
   ]
  },
  {
   "cell_type": "code",
   "execution_count": 19,
   "metadata": {
    "id": "UA5B6EHYnQL0"
   },
   "outputs": [],
   "source": [
    "\n",
    "def create_vit_classifier():\n",
    "    inputs = layers.Input(shape=input_shape)\n",
    "    \n",
    "    normalization = layers.Normalization(mean=136.78040649936997,variance=107.97868633912864**2)(inputs)\n",
    "    \n",
    "    # Create patches.\n",
    "    patches = Patches(patch_size)(normalization)\n",
    "    # Encode patches.\n",
    "    encoded_patches = PatchEncoder(num_patches, projection_dim)(patches)\n",
    "\n",
    "    # Create multiple layers of the Transformer block.\n",
    "    for _ in range(transformer_layers):\n",
    "        # Layer normalization 1.\n",
    "        x1 = layers.LayerNormalization(epsilon=1e-6)(encoded_patches)\n",
    "        # Create a multi-head attention layer.\n",
    "        attention_output = layers.MultiHeadAttention(\n",
    "            num_heads=num_heads, key_dim=projection_dim, dropout=0.3)(x1, x1)\n",
    "        # Skip connection 1.\n",
    "        x2 = layers.Add()([attention_output, encoded_patches])\n",
    "        # Layer normalization 2.\n",
    "        x3 = layers.LayerNormalization(epsilon=1e-6)(x2)\n",
    "        # MLP.\n",
    "        x3 = mlp(x3, hidden_units=transformer_units, dropout_rate=0.1)\n",
    "        # Skip connection 2.\n",
    "        encoded_patches = layers.Add()([x3, x2])\n",
    "\n",
    "    # Create a [batch_size, projection_dim] tensor.\n",
    "    representation = layers.LayerNormalization(epsilon=1e-6)(encoded_patches)\n",
    "    representation = layers.Flatten()(representation)\n",
    "    representation = layers.Dropout(0.5)(representation)\n",
    "    # Add MLP.\n",
    "    features = mlp(representation, hidden_units=mlp_head_units, dropout_rate=0.5)\n",
    "    # calculate outputs.\n",
    "    output = layers.Dense(1,activation='linear')(features)\n",
    "    # Create the Keras model.\n",
    "    model = keras.Model(inputs=inputs, outputs=output)\n",
    "    return model\n"
   ]
  },
  {
   "cell_type": "markdown",
   "metadata": {
    "id": "kWEF5U0-nQL0"
   },
   "source": [
    "## Compile, train, and evaluate the model"
   ]
  },
  {
   "cell_type": "code",
   "execution_count": 20,
   "metadata": {
    "colab": {
     "base_uri": "https://localhost:8080/",
     "height": 936
    },
    "id": "W1PArCoXnQL0",
    "outputId": "9e5aeb3d-f15f-44de-f899-cca68bb18d56",
    "scrolled": false
   },
   "outputs": [],
   "source": [
    "def run_experiment(model):\n",
    "    optimizer = tfa.optimizers.AdamW(\n",
    "        learning_rate=learning_rate, weight_decay=weight_decay\n",
    "    )\n",
    "\n",
    "    model.compile(optimizer=optimizer,loss=tf.keras.losses.MeanSquaredError(name='mse'))\n",
    "\n",
    "    early_stopping = tf.keras.callbacks.EarlyStopping(monitor='val_loss', mode='min', verbose=2, patience=30, restore_best_weights=True)\n",
    "    \n",
    "    checkpoint_filepath = \"tmp/checkpoint_ViT.h5\"\n",
    "    checkpoint_callback = keras.callbacks.ModelCheckpoint(\n",
    "        checkpoint_filepath,\n",
    "        monitor=\"val_loss\",\n",
    "        save_best_only=True,\n",
    "        save_weights_only=True,\n",
    "        mode='min'\n",
    "    )\n",
    "\n",
    "    train_generator = DataGenerator(df_X=X_train, arr_Y=y_train, batch_size=batch_size, shuffle=True,mode='trainx')\n",
    "    test_generator = DataGenerator(df_X=X_test, arr_Y=y_test, batch_size=batch_size,mode='test')\n",
    "    \n",
    "    STEP_SIZE_TRAIN = train_generator.n()//train_generator.batch_size\n",
    "    STEP_SIZE_VALID = test_generator.n()//test_generator.batch_size\n",
    "    \n",
    "    history = model.fit(x=train_generator,\n",
    "                        steps_per_epoch=STEP_SIZE_TRAIN,\n",
    "                        validation_data=test_generator,\n",
    "                        validation_steps=STEP_SIZE_VALID, \n",
    "                        batch_size=batch_size,\n",
    "                        epochs=num_epochs,\n",
    "                        callbacks=[checkpoint_callback,early_stopping])\n",
    "\n",
    "    model.load_weights(checkpoint_filepath)\n",
    "    loss = model.evaluate(x=test_generator,steps=STEP_SIZE_VALID)\n",
    "    print(f\"loss : {loss}\")\n",
    "\n",
    "    return history"
   ]
  },
  {
   "cell_type": "code",
   "execution_count": 21,
   "metadata": {
    "scrolled": false
   },
   "outputs": [
    {
     "name": "stdout",
     "output_type": "stream",
     "text": [
      "Epoch 1/500\n",
      "12/12 [==============================] - 27s 649ms/step - loss: 39.0855 - val_loss: 18.4428\n",
      "Epoch 2/500\n",
      "12/12 [==============================] - 4s 372ms/step - loss: 30.3797 - val_loss: 15.4044\n",
      "Epoch 3/500\n",
      "12/12 [==============================] - 3s 276ms/step - loss: 30.2465 - val_loss: 26.3438\n",
      "Epoch 4/500\n",
      "12/12 [==============================] - 3s 277ms/step - loss: 20.4751 - val_loss: 21.0975\n",
      "Epoch 5/500\n",
      "12/12 [==============================] - 3s 278ms/step - loss: 21.5082 - val_loss: 17.5025\n",
      "Epoch 6/500\n",
      "12/12 [==============================] - 3s 279ms/step - loss: 17.6123 - val_loss: 17.8060\n",
      "Epoch 7/500\n",
      "12/12 [==============================] - 3s 277ms/step - loss: 15.9163 - val_loss: 18.5428\n",
      "Epoch 8/500\n",
      "12/12 [==============================] - 3s 280ms/step - loss: 17.2872 - val_loss: 16.3513\n",
      "Epoch 9/500\n",
      "12/12 [==============================] - 3s 274ms/step - loss: 16.6481 - val_loss: 16.1346\n",
      "Epoch 10/500\n",
      "12/12 [==============================] - 5s 382ms/step - loss: 16.3728 - val_loss: 13.7908\n",
      "Epoch 11/500\n",
      "12/12 [==============================] - 5s 385ms/step - loss: 17.3327 - val_loss: 13.3888\n",
      "Epoch 12/500\n",
      "12/12 [==============================] - 3s 279ms/step - loss: 14.7528 - val_loss: 16.8363\n",
      "Epoch 13/500\n",
      "12/12 [==============================] - 3s 278ms/step - loss: 14.5052 - val_loss: 18.9865\n",
      "Epoch 14/500\n",
      "12/12 [==============================] - 3s 282ms/step - loss: 16.8138 - val_loss: 16.8813\n",
      "Epoch 15/500\n",
      "12/12 [==============================] - 3s 283ms/step - loss: 18.0426 - val_loss: 16.9894\n",
      "Epoch 16/500\n",
      "12/12 [==============================] - 3s 283ms/step - loss: 15.2787 - val_loss: 18.5791\n",
      "Epoch 17/500\n",
      "12/12 [==============================] - 3s 284ms/step - loss: 15.2042 - val_loss: 15.0456\n",
      "Epoch 18/500\n",
      "12/12 [==============================] - 3s 280ms/step - loss: 14.4425 - val_loss: 15.1845\n",
      "Epoch 19/500\n",
      "12/12 [==============================] - 4s 290ms/step - loss: 13.5674 - val_loss: 14.5036\n",
      "Epoch 20/500\n",
      "12/12 [==============================] - 3s 281ms/step - loss: 14.3613 - val_loss: 17.3199\n",
      "Epoch 21/500\n",
      "12/12 [==============================] - 3s 280ms/step - loss: 14.2467 - val_loss: 14.6787\n",
      "Epoch 22/500\n",
      "12/12 [==============================] - 3s 280ms/step - loss: 15.1396 - val_loss: 17.5533\n",
      "Epoch 23/500\n",
      "12/12 [==============================] - 3s 285ms/step - loss: 13.6161 - val_loss: 15.2914\n",
      "Epoch 24/500\n",
      "12/12 [==============================] - 5s 394ms/step - loss: 11.8638 - val_loss: 12.8229\n",
      "Epoch 25/500\n",
      "12/12 [==============================] - 3s 283ms/step - loss: 13.9584 - val_loss: 15.3646\n",
      "Epoch 26/500\n",
      "12/12 [==============================] - 3s 285ms/step - loss: 13.1960 - val_loss: 16.6688\n",
      "Epoch 27/500\n",
      "12/12 [==============================] - 3s 284ms/step - loss: 13.2861 - val_loss: 18.2042\n",
      "Epoch 28/500\n",
      "12/12 [==============================] - 3s 285ms/step - loss: 13.5218 - val_loss: 15.7728\n",
      "Epoch 29/500\n",
      "12/12 [==============================] - 3s 283ms/step - loss: 13.2509 - val_loss: 17.0471\n",
      "Epoch 30/500\n",
      "12/12 [==============================] - 3s 282ms/step - loss: 13.1205 - val_loss: 16.9082\n",
      "Epoch 31/500\n",
      "12/12 [==============================] - 3s 285ms/step - loss: 12.7341 - val_loss: 16.5474\n",
      "Epoch 32/500\n",
      "12/12 [==============================] - 3s 283ms/step - loss: 12.4947 - val_loss: 15.2919\n",
      "Epoch 33/500\n",
      "12/12 [==============================] - 4s 306ms/step - loss: 12.4654 - val_loss: 17.6666\n",
      "Epoch 34/500\n",
      "12/12 [==============================] - 4s 287ms/step - loss: 12.8919 - val_loss: 17.0673\n",
      "Epoch 35/500\n",
      "12/12 [==============================] - 3s 284ms/step - loss: 13.0438 - val_loss: 17.0067\n",
      "Epoch 36/500\n",
      "12/12 [==============================] - 3s 283ms/step - loss: 12.3041 - val_loss: 16.6471\n",
      "Epoch 37/500\n",
      "12/12 [==============================] - 4s 287ms/step - loss: 13.6244 - val_loss: 16.7263\n",
      "Epoch 38/500\n",
      "12/12 [==============================] - 3s 284ms/step - loss: 12.0261 - val_loss: 17.1115\n",
      "Epoch 39/500\n",
      "12/12 [==============================] - 3s 284ms/step - loss: 10.6108 - val_loss: 15.8475\n",
      "Epoch 40/500\n",
      "12/12 [==============================] - 4s 285ms/step - loss: 12.0202 - val_loss: 14.4431\n",
      "Epoch 41/500\n",
      "12/12 [==============================] - 3s 282ms/step - loss: 12.7711 - val_loss: 13.0803\n",
      "Epoch 42/500\n",
      "12/12 [==============================] - 3s 286ms/step - loss: 11.8527 - val_loss: 15.0665\n",
      "Epoch 43/500\n",
      "12/12 [==============================] - 3s 285ms/step - loss: 12.0072 - val_loss: 14.4141\n",
      "Epoch 44/500\n",
      "12/12 [==============================] - 3s 288ms/step - loss: 11.2086 - val_loss: 14.5080\n",
      "Epoch 45/500\n",
      "12/12 [==============================] - 3s 285ms/step - loss: 10.4242 - val_loss: 14.8370\n",
      "Epoch 46/500\n",
      "12/12 [==============================] - 3s 284ms/step - loss: 10.3947 - val_loss: 15.0017\n",
      "Epoch 47/500\n",
      "12/12 [==============================] - 4s 289ms/step - loss: 10.5435 - val_loss: 15.9092\n",
      "Epoch 48/500\n",
      "12/12 [==============================] - 3s 285ms/step - loss: 9.5797 - val_loss: 12.9635\n",
      "Epoch 49/500\n",
      "12/12 [==============================] - 3s 286ms/step - loss: 10.6123 - val_loss: 13.5461\n",
      "Epoch 50/500\n",
      "12/12 [==============================] - 4s 289ms/step - loss: 8.1586 - val_loss: 13.3470\n",
      "Epoch 51/500\n",
      "12/12 [==============================] - 3s 285ms/step - loss: 8.9307 - val_loss: 13.3625\n",
      "Epoch 52/500\n",
      "12/12 [==============================] - 4s 285ms/step - loss: 9.9559 - val_loss: 16.5398\n",
      "Epoch 53/500\n",
      "12/12 [==============================] - 3s 286ms/step - loss: 10.8286 - val_loss: 18.8260\n",
      "Epoch 54/500\n",
      "12/12 [==============================] - ETA: 0s - loss: 9.7642Restoring model weights from the end of the best epoch: 24.\n",
      "12/12 [==============================] - 4s 302ms/step - loss: 9.7642 - val_loss: 14.4666\n",
      "Epoch 54: early stopping\n",
      "3/3 [==============================] - 1s 152ms/step - loss: 12.8229\n",
      "loss : 12.822850227355957\n"
     ]
    }
   ],
   "source": [
    "vit_classifier = create_vit_classifier()\n",
    "history = run_experiment(vit_classifier)"
   ]
  },
  {
   "cell_type": "code",
   "execution_count": 22,
   "metadata": {},
   "outputs": [
    {
     "name": "stdout",
     "output_type": "stream",
     "text": [
      "101/101 [==============================] - 7s 44ms/step\n"
     ]
    }
   ],
   "source": [
    "test_generator = DataGenerator(df_X=X_test, arr_Y=y_test, batch_size=1,mode='test')\n",
    "STEP_SIZE_VALID = test_generator.n()\n",
    "\n",
    "predict_result = vit_classifier.predict(test_generator,steps=STEP_SIZE_VALID)\n",
    "#prediction = 10 ** predict_result\n",
    "prediction = predict_result"
   ]
  },
  {
   "cell_type": "code",
   "execution_count": 23,
   "metadata": {},
   "outputs": [],
   "source": [
    "results = pd.DataFrame()\n",
    "results = X_test\n",
    "results['prediction'] = prediction"
   ]
  },
  {
   "cell_type": "code",
   "execution_count": 24,
   "metadata": {},
   "outputs": [
    {
     "data": {
      "text/html": [
       "<div>\n",
       "<style scoped>\n",
       "    .dataframe tbody tr th:only-of-type {\n",
       "        vertical-align: middle;\n",
       "    }\n",
       "\n",
       "    .dataframe tbody tr th {\n",
       "        vertical-align: top;\n",
       "    }\n",
       "\n",
       "    .dataframe thead th {\n",
       "        text-align: right;\n",
       "    }\n",
       "</style>\n",
       "<table border=\"1\" class=\"dataframe\">\n",
       "  <thead>\n",
       "    <tr style=\"text-align: right;\">\n",
       "      <th></th>\n",
       "      <th>file_path</th>\n",
       "      <th>bolts</th>\n",
       "      <th>target</th>\n",
       "      <th>group</th>\n",
       "      <th>prediction</th>\n",
       "    </tr>\n",
       "  </thead>\n",
       "  <tbody>\n",
       "    <tr>\n",
       "      <th>0</th>\n",
       "      <td>images01\\images (16).jfif</td>\n",
       "      <td>2</td>\n",
       "      <td>0</td>\n",
       "      <td>images01</td>\n",
       "      <td>4.181252</td>\n",
       "    </tr>\n",
       "    <tr>\n",
       "      <th>1</th>\n",
       "      <td>images01\\stove-bolt.jpg</td>\n",
       "      <td>6</td>\n",
       "      <td>1</td>\n",
       "      <td>images01</td>\n",
       "      <td>4.697369</td>\n",
       "    </tr>\n",
       "    <tr>\n",
       "      <th>2</th>\n",
       "      <td>images00\\images (17).jfif</td>\n",
       "      <td>10</td>\n",
       "      <td>1</td>\n",
       "      <td>images00</td>\n",
       "      <td>5.069148</td>\n",
       "    </tr>\n",
       "    <tr>\n",
       "      <th>3</th>\n",
       "      <td>images00\\istockphoto-106588721-612x612.jpg</td>\n",
       "      <td>5</td>\n",
       "      <td>0</td>\n",
       "      <td>images00</td>\n",
       "      <td>4.297812</td>\n",
       "    </tr>\n",
       "    <tr>\n",
       "      <th>4</th>\n",
       "      <td>images02\\coach-bolts-plus-nuts-carriage-bolts-...</td>\n",
       "      <td>4</td>\n",
       "      <td>0</td>\n",
       "      <td>images02</td>\n",
       "      <td>4.365835</td>\n",
       "    </tr>\n",
       "    <tr>\n",
       "      <th>...</th>\n",
       "      <td>...</td>\n",
       "      <td>...</td>\n",
       "      <td>...</td>\n",
       "      <td>...</td>\n",
       "      <td>...</td>\n",
       "    </tr>\n",
       "    <tr>\n",
       "      <th>96</th>\n",
       "      <td>images00\\metals-nut-bolt-1000x1000.webp</td>\n",
       "      <td>5</td>\n",
       "      <td>0</td>\n",
       "      <td>images00</td>\n",
       "      <td>4.245743</td>\n",
       "    </tr>\n",
       "    <tr>\n",
       "      <th>97</th>\n",
       "      <td>images00\\istockphoto-1284214814-612x612.jpg</td>\n",
       "      <td>2</td>\n",
       "      <td>0</td>\n",
       "      <td>images00</td>\n",
       "      <td>4.786581</td>\n",
       "    </tr>\n",
       "    <tr>\n",
       "      <th>98</th>\n",
       "      <td>images00\\screws-nails-isolated-on-white-260nw-...</td>\n",
       "      <td>11</td>\n",
       "      <td>1</td>\n",
       "      <td>images00</td>\n",
       "      <td>4.856110</td>\n",
       "    </tr>\n",
       "    <tr>\n",
       "      <th>99</th>\n",
       "      <td>images00\\istockphoto-1390083678-612x612.jpg</td>\n",
       "      <td>4</td>\n",
       "      <td>0</td>\n",
       "      <td>images00</td>\n",
       "      <td>4.763932</td>\n",
       "    </tr>\n",
       "    <tr>\n",
       "      <th>100</th>\n",
       "      <td>images04\\141686317.jpg</td>\n",
       "      <td>2</td>\n",
       "      <td>0</td>\n",
       "      <td>images04</td>\n",
       "      <td>3.351853</td>\n",
       "    </tr>\n",
       "  </tbody>\n",
       "</table>\n",
       "<p>101 rows × 5 columns</p>\n",
       "</div>"
      ],
      "text/plain": [
       "                                             file_path  bolts  target  \\\n",
       "0                            images01\\images (16).jfif      2       0   \n",
       "1                              images01\\stove-bolt.jpg      6       1   \n",
       "2                            images00\\images (17).jfif     10       1   \n",
       "3           images00\\istockphoto-106588721-612x612.jpg      5       0   \n",
       "4    images02\\coach-bolts-plus-nuts-carriage-bolts-...      4       0   \n",
       "..                                                 ...    ...     ...   \n",
       "96             images00\\metals-nut-bolt-1000x1000.webp      5       0   \n",
       "97         images00\\istockphoto-1284214814-612x612.jpg      2       0   \n",
       "98   images00\\screws-nails-isolated-on-white-260nw-...     11       1   \n",
       "99         images00\\istockphoto-1390083678-612x612.jpg      4       0   \n",
       "100                             images04\\141686317.jpg      2       0   \n",
       "\n",
       "        group  prediction  \n",
       "0    images01    4.181252  \n",
       "1    images01    4.697369  \n",
       "2    images00    5.069148  \n",
       "3    images00    4.297812  \n",
       "4    images02    4.365835  \n",
       "..        ...         ...  \n",
       "96   images00    4.245743  \n",
       "97   images00    4.786581  \n",
       "98   images00    4.856110  \n",
       "99   images00    4.763932  \n",
       "100  images04    3.351853  \n",
       "\n",
       "[101 rows x 5 columns]"
      ]
     },
     "execution_count": 24,
     "metadata": {},
     "output_type": "execute_result"
    }
   ],
   "source": [
    "results"
   ]
  },
  {
   "cell_type": "code",
   "execution_count": 25,
   "metadata": {},
   "outputs": [],
   "source": [
    "results.to_csv('results_regression.csv',index=False)"
   ]
  },
  {
   "cell_type": "raw",
   "metadata": {},
   "source": []
  }
 ],
 "metadata": {
  "accelerator": "GPU",
  "colab": {
   "provenance": [],
   "toc_visible": true
  },
  "environment": {
   "name": "tf2-gpu.2-4.m61",
   "type": "gcloud",
   "uri": "gcr.io/deeplearning-platform-release/tf2-gpu.2-4:m61"
  },
  "gpuClass": "standard",
  "kernelspec": {
   "display_name": "Python 3 (ipykernel)",
   "language": "python",
   "name": "python3"
  },
  "language_info": {
   "codemirror_mode": {
    "name": "ipython",
    "version": 3
   },
   "file_extension": ".py",
   "mimetype": "text/x-python",
   "name": "python",
   "nbconvert_exporter": "python",
   "pygments_lexer": "ipython3",
   "version": "3.9.18"
  }
 },
 "nbformat": 4,
 "nbformat_minor": 1
}

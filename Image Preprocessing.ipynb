{
 "cells": [
  {
   "cell_type": "code",
   "execution_count": 1,
   "id": "15321751",
   "metadata": {},
   "outputs": [],
   "source": [
    "from PIL import Image\n",
    "import os\n",
    "import pandas as pd"
   ]
  },
  {
   "cell_type": "code",
   "execution_count": 2,
   "id": "48405a28",
   "metadata": {},
   "outputs": [],
   "source": [
    "def get_filepaths(directory):\n",
    "   \n",
    "    file_paths = []\n",
    "    file_image = []\n",
    "\n",
    "    # Walk the tree.\n",
    "    for root, directories, files in os.walk(directory):\n",
    "        for filename in files:\n",
    "            # Join the two strings in order to form the full filepath.                      \n",
    "            filepath = os.path.join(root, filename)\n",
    "            \n",
    "            file_paths.append(filepath)  # Add it to the list.       \n",
    "            file_image.append(filename.split('.')[0])\n",
    "\n",
    "    return file_paths, file_image"
   ]
  },
  {
   "cell_type": "code",
   "execution_count": 5,
   "id": "85de8f5e",
   "metadata": {},
   "outputs": [],
   "source": [
    "file_path, image_id = get_filepaths('images04')"
   ]
  },
  {
   "cell_type": "code",
   "execution_count": 6,
   "id": "e763bbc3",
   "metadata": {},
   "outputs": [],
   "source": [
    "for image in file_path:\n",
    "    img = Image.open(image, mode='r')"
   ]
  },
  {
   "cell_type": "code",
   "execution_count": 7,
   "id": "9bbe72b5",
   "metadata": {},
   "outputs": [],
   "source": [
    "data = pd.DataFrame()"
   ]
  },
  {
   "cell_type": "code",
   "execution_count": 8,
   "id": "1b99d144",
   "metadata": {},
   "outputs": [],
   "source": [
    "data['file_path'] = pd.Series(file_path)"
   ]
  },
  {
   "cell_type": "code",
   "execution_count": 9,
   "id": "7fb8db49",
   "metadata": {},
   "outputs": [],
   "source": [
    "data.to_csv('train4.csv')"
   ]
  },
  {
   "cell_type": "code",
   "execution_count": null,
   "id": "9f1c763b",
   "metadata": {},
   "outputs": [],
   "source": []
  }
 ],
 "metadata": {
  "kernelspec": {
   "display_name": "Python 3 (ipykernel)",
   "language": "python",
   "name": "python3"
  },
  "language_info": {
   "codemirror_mode": {
    "name": "ipython",
    "version": 3
   },
   "file_extension": ".py",
   "mimetype": "text/x-python",
   "name": "python",
   "nbconvert_exporter": "python",
   "pygments_lexer": "ipython3",
   "version": "3.10.4"
  }
 },
 "nbformat": 4,
 "nbformat_minor": 5
}
